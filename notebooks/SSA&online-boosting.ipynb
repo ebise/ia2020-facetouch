{
 "cells": [
  {
   "cell_type": "markdown",
   "metadata": {},
   "source": [
    "# Training with ssa preprocessed straming data on online-boosting model  "
   ]
  },
  {
   "cell_type": "code",
   "execution_count": null,
   "metadata": {},
   "outputs": [],
   "source": [
    "from pyts.decomposition import SingularSpectrumAnalysis\n",
    "from sklearn.preprocessing import StandardScaler\n",
    "import pandas as pd \n",
    "import numpy as np \n",
    "import datetime\n",
    "import matplotlib.pyplot as plt\n",
    "import glob\n",
    "import itertools\n",
    "from skmultiflow.data.data_stream import DataStream\n",
    "from skmultiflow.meta import AdaptiveRandomForestClassifier, StreamingRandomPatchesClassifier,\\\n",
    "OnlineBoostingClassifier, OnlineSMOTEBaggingClassifier\n",
    "from skmultiflow.evaluation import EvaluatePrequential\n",
    "from sklearn.metrics import accuracy_score, f1_score,recall_score,precision_score,accuracy_score,roc_auc_score,confusion_matrix\n",
    "%matplotlib notebook"
   ]
  },
  {
   "cell_type": "markdown",
   "metadata": {},
   "source": [
    "# load training and test data"
   ]
  },
  {
   "cell_type": "code",
   "execution_count": null,
   "metadata": {},
   "outputs": [],
   "source": [
    "file_paths = '..//preprocessed_data/Sebastian/Preprocessed_without_anchor/binary/'\n",
    "filenames = glob.glob(file_paths+\"*[0-9].csv\",recursive = True)\n",
    "list_of_dfs = [pd.read_csv(filename,sep=';',header=0) for filename in filenames]\n",
    "data_all = pd.DataFrame()\n",
    "for dataframe, filename in zip(list_of_dfs, filenames):\n",
    "    data_all=data_all.append(dataframe.iloc[:,-5:])\n",
    "data=pd.DataFrame(data_all)\n",
    "data.reset_index(drop=True,inplace=True)\n",
    "len(data)"
   ]
  },
  {
   "cell_type": "code",
   "execution_count": null,
   "metadata": {},
   "outputs": [],
   "source": [
    "file_paths = '..//data/processed/'\n",
    "filenames = glob.glob(file_paths+\"*[0-9].csv\",recursive = True)\n",
    "list_of_dfs = [pd.read_csv(filename,sep=';',header=0) for filename in filenames]\n",
    "data_t_all = pd.DataFrame()\n",
    "for dataframe, filename in zip(list_of_dfs, filenames):\n",
    "    data_t_all=data_t_all.append(dataframe.iloc[:,-5:])\n",
    "data_t=pd.DataFrame(data_t_all)\n",
    "data_t.reset_index(drop=True,inplace=True)\n",
    "len(data_t)"
   ]
  },
  {
   "cell_type": "markdown",
   "metadata": {},
   "source": [
    "# Singular Spectrum Analysis (SSA)"
   ]
  },
  {
   "cell_type": "code",
   "execution_count": null,
   "metadata": {},
   "outputs": [],
   "source": [
    "X = data.iloc[:,:4].transpose()\n",
    "X_test = data_t.iloc[:,:4].transpose()\n",
    "groups = [np.arange(i, i + 4) for i in range(0, 11, 4)]\n",
    "ssa = SingularSpectrumAnalysis(window_size=15, groups=groups)\n",
    "ssa.fit(X)\n",
    "X_ssa = ssa.transform(X)\n",
    "X_ssa_test=ssa.transform(X_test)\n",
    "X_ssa.shape"
   ]
  },
  {
   "cell_type": "code",
   "execution_count": null,
   "metadata": {},
   "outputs": [],
   "source": [
    "plt.figure(figsize=(10, 6))\n",
    "\n",
    "ax1 = plt.subplot(121)\n",
    "ax1.plot(X.iloc[0,:], 'o-', label='Original')\n",
    "ax1.legend(loc='best', fontsize=14)\n",
    "\n",
    "ax2 = plt.subplot(122)\n",
    "for i in range(len(groups)):\n",
    "    ax2.plot(X_ssa[0, i], 'o--', label='SSA {0}'.format(i + 1))\n",
    "ax2.legend(loc='best', fontsize=14)\n",
    "\n",
    "plt.suptitle('Singular Spectrum Analysis', fontsize=20)\n",
    "\n",
    "plt.tight_layout()\n",
    "plt.subplots_adjust(top=0.88)\n",
    "plt.show()"
   ]
  },
  {
   "cell_type": "code",
   "execution_count": null,
   "metadata": {},
   "outputs": [],
   "source": [
    "final_df=X_ssa[0, 0]"
   ]
  }
 ],
 "metadata": {
  "kernelspec": {
   "display_name": "p3_env",
   "language": "python",
   "name": "p3_env"
  },
  "language_info": {
   "codemirror_mode": {
    "name": "ipython",
    "version": 3
   },
   "file_extension": ".py",
   "mimetype": "text/x-python",
   "name": "python",
   "nbconvert_exporter": "python",
   "pygments_lexer": "ipython3",
   "version": "3.6.9"
  }
 },
 "nbformat": 4,
 "nbformat_minor": 4
}
