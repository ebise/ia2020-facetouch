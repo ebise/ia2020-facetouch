{
 "cells": [
  {
   "cell_type": "markdown",
   "metadata": {},
   "source": [
    "### Imports"
   ]
  },
  {
   "cell_type": "code",
   "execution_count": null,
   "metadata": {},
   "outputs": [],
   "source": [
    "import pandas as pd\n",
    "import datetime\n",
    "import matplotlib.pyplot as plt\n",
    "import numpy as np\n",
    "import math\n",
    "import plotly.express as px\n"
   ]
  },
  {
   "cell_type": "markdown",
   "metadata": {},
   "source": [
    "## Method Definitions"
   ]
  },
  {
   "cell_type": "code",
   "execution_count": null,
   "metadata": {},
   "outputs": [],
   "source": [
    "def load_data_sets(data_path, label_path):\n",
    "    \n",
    "    # load data recordings from csv\n",
    "    data_raw = pd.read_csv('2020-07-07_21-04-53.csv',sep=\",\", header=0)\n",
    "    data_raw = data_raw.drop(['acc_x','acc_y','acc_z','roll', 'pitch', 'yaw','event'], axis=1)\n",
    "    data_datetime = data_raw.copy()\n",
    "    for row in range(0, len(data_datetime)):\n",
    "        data_datetime.iloc[row, 0] = datetime.datetime.fromtimestamp(data_datetime.iloc[row, 0] / 1e3).strftime('%Y-%m-%d %H:%M:%S.%f')\n",
    "    \n",
    "    # load labels from csv\n",
    "    data_labels = pd.read_csv(label_path, sep=\";\", header=0)\n",
    "    reduced_data_labels = data_labels[['Time', 'trl', 'nosezone.touches', 'mouthzone.touches', 'eyezone.right eye', 'eyezone.left eye']].copy()\n",
    "    reduced_data_labels.columns = ['timeAfterStart', 'isTouch', 'nose', 'mouth', 'rightEye', 'leftEye']\n",
    "    return data_raw, data_datetime, reduced_data_labels"
   ]
  },
  {
   "cell_type": "code",
   "execution_count": null,
   "metadata": {},
   "outputs": [],
   "source": [
    "def plot_data_recordings(data, start, end):\n",
    "    plt.figure(figsize=(20,10))\n",
    "    plt.plot(data.iloc[start:end, 1:5])\n",
    "    plt.show()"
   ]
  },
  {
   "cell_type": "code",
   "execution_count": null,
   "metadata": {},
   "outputs": [],
   "source": [
    "def get_timestamp_from_recording(data, row):\n",
    "    return data.iloc[row, 0]"
   ]
  },
  {
   "cell_type": "code",
   "execution_count": null,
   "metadata": {},
   "outputs": [],
   "source": [
    "def obtain_final_labels(reduced_data_label):\n",
    "    labels = []\n",
    "    record_start_index = math.inf\n",
    "    \n",
    "    for index in range(len(reduced_data_label)):\n",
    "\n",
    "\n",
    "        if reduced_data_label.iloc[index, 1] == 1:\n",
    "            if index < record_start_index:\n",
    "                record_start_index = index\n",
    "\n",
    "            touch_zone = np.argmax(reduced_data_label.iloc[index, 2:6]) + 2\n",
    "            #touch_zone = np.argwhere(reduced_data_label.columns.values == touch_zone)[0][0]\n",
    "        \n",
    "            zone = reduced_data_label.columns[touch_zone]\n",
    "\n",
    "            if zone == 'nose':\n",
    "                label = 1\n",
    "            elif zone == 'mouth':\n",
    "                label = 2\n",
    "            elif zone == 'rightEye':\n",
    "                label = 3\n",
    "            elif zone == 'leftEye':\n",
    "                label = 4\n",
    "            labels.append(label)\n",
    "\n",
    "        else:\n",
    "            if index > record_start_index:\n",
    "                label = 0\n",
    "\n",
    "                labels.append(label)\n",
    "\n",
    "    reduced_data_label = reduced_data_label.drop(range(record_start_index), axis = 0)\n",
    "    reduced_data_label = reduced_data_label.reset_index(drop=True)\n",
    "    reduced_data_label['label'] = labels\n",
    "    \n",
    "    return reduced_data_label"
   ]
  },
  {
   "cell_type": "code",
   "execution_count": null,
   "metadata": {},
   "outputs": [],
   "source": [
    "def generated_timestamps_in_label_data(reduced_data_label, timestamp):\n",
    "    reduced_data_label['timestamp'] = np.zeros(len(reduced_data_label), dtype=np.longlong)\n",
    "    reduced_data_label.iloc[0,-1] = timestamp #1594149273330\n",
    "    for index in range(1, len(reduced_data_label)):\n",
    "        reduced_data_label.iloc[index, -1] = reduced_data_label.iloc[0, -1] + (reduced_data_label.iloc[index, 0] - reduced_data_label.iloc[0,0]) * 1000\n",
    "    return reduced_data_label"
   ]
  },
  {
   "cell_type": "code",
   "execution_count": null,
   "metadata": {
    "scrolled": true
   },
   "outputs": [],
   "source": [
    "def join_recordings_with_labels(data_raw, reduced_data_label):\n",
    "    index_data=0\n",
    "    data_raw['label'] = np.zeros(len(data_raw), dtype=np.int)\n",
    "\n",
    "    for index_label in range(0, len(reduced_data_label) - 1):\n",
    "        timestamp_label = reduced_data_label.iloc[index_label,-1]\n",
    "        while index_data < len(data_raw):\n",
    "            timestamp_data = data_raw.iloc[index_data,0]\n",
    "            if timestamp_data < timestamp_label:\n",
    "                index_data += 1\n",
    "            elif timestamp_data >= timestamp_label:\n",
    "                if timestamp_data < reduced_data_label.iloc[index_label + 1,-1]:\n",
    "                    data_raw.iloc[index_data, -1] = reduced_data_label.iloc[index_label, -2]\n",
    "                    index_data += 1\n",
    "                else:\n",
    "                    break\n",
    "    return data_raw"
   ]
  },
  {
   "cell_type": "code",
   "execution_count": null,
   "metadata": {},
   "outputs": [],
   "source": [
    "def export_to_csv(dataset, path):\n",
    "    dataset.to_csv(path, index = False, header=True, sep=';')\n",
    "    return 'exported successfully'"
   ]
  },
  {
   "cell_type": "markdown",
   "metadata": {},
   "source": [
    "## Apply Preprocessing"
   ]
  },
  {
   "cell_type": "code",
   "execution_count": null,
   "metadata": {},
   "outputs": [],
   "source": [
    "raw, data_tmps, label_data = load_data_sets('2020-07-07_21-04-53.csv', '2020-07-07-_21_02_46_annotated.csv')\n",
    "plot_data_recordings(data_tmps, 0, 1000)"
   ]
  },
  {
   "cell_type": "code",
   "execution_count": null,
   "metadata": {},
   "outputs": [],
   "source": [
    "timestamp = get_timestamp_from_recording(raw, 914)\n",
    "timestamp"
   ]
  },
  {
   "cell_type": "code",
   "execution_count": null,
   "metadata": {
    "scrolled": false
   },
   "outputs": [],
   "source": [
    "label_data = obtain_final_labels(label_data)\n",
    "label_data = generated_timestamps_in_label_data(label_data, timestamp)\n",
    "data_with_labels = join_recordings_with_labels(raw, label_data)\n",
    "data_with_labels"
   ]
  },
  {
   "cell_type": "code",
   "execution_count": null,
   "metadata": {
    "scrolled": false
   },
   "outputs": [],
   "source": [
    "\n",
    "df = data_with_labels\n",
    "\n",
    "# Use directly Columns as argument. You can use tab completion for this!\n",
    "fig = px.scatter(df, x=data_tmps['#timestamp'], y=df['left2'], color=df['label'])\n",
    "fig.show()"
   ]
  },
  {
   "cell_type": "code",
   "execution_count": null,
   "metadata": {},
   "outputs": [],
   "source": [
    "export_to_csv(data_with_labels, 'preprocessed_data_n_01.csv')"
   ]
  },
  {
   "cell_type": "code",
   "execution_count": null,
   "metadata": {},
   "outputs": [],
   "source": [
    "\n"
   ]
  }
 ],
 "metadata": {
  "kernelspec": {
   "display_name": "Python 3",
   "language": "python",
   "name": "python3"
  },
  "language_info": {
   "codemirror_mode": {
    "name": "ipython",
    "version": 3
   },
   "file_extension": ".py",
   "mimetype": "text/x-python",
   "name": "python",
   "nbconvert_exporter": "python",
   "pygments_lexer": "ipython3",
   "version": "3.7.6"
  }
 },
 "nbformat": 4,
 "nbformat_minor": 4
}