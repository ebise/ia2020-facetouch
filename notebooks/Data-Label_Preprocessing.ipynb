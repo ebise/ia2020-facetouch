{
 "cells": [
  {
   "cell_type": "markdown",
   "metadata": {},
   "source": [
    "### Imports"
   ]
  },
  {
   "cell_type": "code",
   "execution_count": 1,
   "metadata": {},
   "outputs": [],
   "source": [
    "import pandas as pd\n",
    "import datetime\n",
    "import matplotlib.pyplot as plt\n",
    "import numpy as np\n",
    "import math\n",
    "import plotly.express as px\n"
   ]
  },
  {
   "cell_type": "markdown",
   "metadata": {},
   "source": [
    "## Method Definitions"
   ]
  },
  {
   "cell_type": "code",
   "execution_count": 2,
   "metadata": {},
   "outputs": [],
   "source": [
    "def load_data_sets(data_path, label_path):\n",
    "    \n",
    "    # load data recordings from csv\n",
    "    data_raw = pd.read_csv(data_path,sep=\",\", header=0)\n",
    "    data_raw = data_raw.drop(['acc_x','acc_y','acc_z','roll', 'pitch', 'yaw','event'], axis=1)\n",
    "    data_datetime = data_raw.copy()\n",
    "    for row in range(0, len(data_datetime)):\n",
    "        data_datetime.iloc[row, 0] = datetime.datetime.fromtimestamp(data_datetime.iloc[row, 0] / 1e3).strftime('%Y-%m-%d %H:%M:%S.%f')\n",
    "    \n",
    "    # load labels from csv\n",
    "    data_labels = pd.read_csv(label_path, sep=\";\", header=0)\n",
    "    reduced_data_labels = data_labels[['Time', 'trl', 'nosezone.touches', 'mouthzone.touches', 'eyezone.right eye', 'eyezone.left eye']].copy()\n",
    "    reduced_data_labels.columns = ['timeAfterStart', 'isTouch', 'nose', 'mouth', 'rightEye', 'leftEye']\n",
    "    return data_raw, data_datetime, reduced_data_labels"
   ]
  },
  {
   "cell_type": "code",
   "execution_count": 3,
   "metadata": {},
   "outputs": [],
   "source": [
    "def plot_data_recordings(data, start, end):\n",
    "    plt.figure(figsize=(20,10))\n",
    "    plt.plot(data.iloc[start:end, 1:5])\n",
    "    plt.show()"
   ]
  },
  {
   "cell_type": "code",
   "execution_count": 4,
   "metadata": {},
   "outputs": [],
   "source": [
    "def get_timestamp_from_recording(data, row):\n",
    "    return data.iloc[row, 0]"
   ]
  },
  {
   "cell_type": "code",
   "execution_count": 5,
   "metadata": {},
   "outputs": [],
   "source": [
    "def obtain_final_labels(reduced_data_label):\n",
    "    labels = []\n",
    "    record_start_index = math.inf\n",
    "    \n",
    "    for index in range(len(reduced_data_label)):\n",
    "\n",
    "\n",
    "        if reduced_data_label.iloc[index, 1] == 1:\n",
    "            if index < record_start_index:\n",
    "                record_start_index = index\n",
    "\n",
    "            touch_zone = np.argmax(reduced_data_label.iloc[index, 2:6]) + 2\n",
    "            #touch_zone = np.argwhere(reduced_data_label.columns.values == touch_zone)[0][0]\n",
    "        \n",
    "            zone = reduced_data_label.columns[touch_zone]\n",
    "\n",
    "            if zone == 'nose':\n",
    "                label = 1\n",
    "            elif zone == 'mouth':\n",
    "                label = 2\n",
    "            elif zone == 'rightEye':\n",
    "                label = 3\n",
    "            elif zone == 'leftEye':\n",
    "                label = 4\n",
    "            labels.append(label)\n",
    "\n",
    "        else:\n",
    "            if index > record_start_index:\n",
    "                label = 0\n",
    "\n",
    "                labels.append(label)\n",
    "\n",
    "    reduced_data_label = reduced_data_label.drop(range(record_start_index), axis = 0)\n",
    "    reduced_data_label = reduced_data_label.reset_index(drop=True)\n",
    "    reduced_data_label['label'] = labels\n",
    "    \n",
    "    return reduced_data_label"
   ]
  },
  {
   "cell_type": "code",
   "execution_count": 6,
   "metadata": {},
   "outputs": [],
   "source": [
    "def generated_timestamps_in_label_data(reduced_data_label, timestamp):\n",
    "    reduced_data_label['timestamp'] = np.zeros(len(reduced_data_label), dtype=np.longlong)\n",
    "    reduced_data_label.iloc[0,-1] = timestamp #1594149273330\n",
    "    for index in range(1, len(reduced_data_label)):\n",
    "        reduced_data_label.iloc[index, -1] = reduced_data_label.iloc[0, -1] + (reduced_data_label.iloc[index, 0] - reduced_data_label.iloc[0,0]) * 1000\n",
    "    return reduced_data_label"
   ]
  },
  {
   "cell_type": "code",
   "execution_count": 7,
   "metadata": {
    "scrolled": true
   },
   "outputs": [],
   "source": [
    "def join_recordings_with_labels(data_raw, reduced_data_label):\n",
    "    index_data=0\n",
    "    data_raw['label'] = np.zeros(len(data_raw), dtype=np.int)\n",
    "\n",
    "    for index_label in range(0, len(reduced_data_label) - 1):\n",
    "        timestamp_label = reduced_data_label.iloc[index_label,-1]\n",
    "        while index_data < len(data_raw):\n",
    "            timestamp_data = data_raw.iloc[index_data,0]\n",
    "            if timestamp_data < timestamp_label:\n",
    "                index_data += 1\n",
    "            elif timestamp_data >= timestamp_label:\n",
    "                if timestamp_data < reduced_data_label.iloc[index_label + 1,-1]:\n",
    "                    data_raw.iloc[index_data, -1] = reduced_data_label.iloc[index_label, -2]\n",
    "                    index_data += 1\n",
    "                else:\n",
    "                    break\n",
    "    return data_raw"
   ]
  },
  {
   "cell_type": "code",
   "execution_count": 8,
   "metadata": {},
   "outputs": [],
   "source": [
    "def export_to_csv(dataset, path):\n",
    "    dataset.to_csv(path, index = False, header=True, sep=';')\n",
    "    return 'exported successfully'"
   ]
  },
  {
   "cell_type": "markdown",
   "metadata": {},
   "source": [
    "## Apply Preprocessing"
   ]
  },
  {
   "cell_type": "code",
   "execution_count": 9,
   "metadata": {},
   "outputs": [],
   "source": [
    "folder_path = 'C:/Users/Johan/Documents/_Uni/IA Seminar/github/ia2020-facetouch/data/data_johan/data_becci/'\n",
    "raw_data_file = '2020-07-05_22-50-40.csv'\n",
    "anotation_txt_file = 'Anotation_Becci_Framebyframe_2.txt'"
   ]
  },
  {
   "cell_type": "code",
   "execution_count": 10,
   "metadata": {},
   "outputs": [],
   "source": [
    "raw, data_tmps, label_data = load_data_sets(folder_path+raw_data_file, folder_path+anotation_txt_file)"
   ]
  },
  {
   "cell_type": "code",
   "execution_count": 11,
   "metadata": {},
   "outputs": [
    {
     "data": {
      "image/png": "[encoded data removed]",
      "text/plain": [
       "<Figure size 1440x720 with 1 Axes>"
      ]
     },
     "metadata": {
      "needs_background": "light"
     },
     "output_type": "display_data"
    }
   ],
   "source": [
    "plot_data_recordings(data_tmps, 1010, 1020)"
   ]
  },
  {
   "cell_type": "code",
   "execution_count": 55,
   "metadata": {},
   "outputs": [
    {
     "data": {
      "text/plain": [
       "1594215578342"
      ]
     },
     "execution_count": 55,
     "metadata": {},
     "output_type": "execute_result"
    }
   ],
   "source": [
    "timestamp = get_timestamp_from_recording(raw, 1012)\n",
    "timestamp"
   ]
  },
  {
   "cell_type": "code",
   "execution_count": 56,
   "metadata": {
    "scrolled": false
   },
   "outputs": [
    {
     "data": {
      "text/html": [
       "<div>\n",
       "<style scoped>\n",
       "    .dataframe tbody tr th:only-of-type {\n",
       "        vertical-align: middle;\n",
       "    }\n",
       "\n",
       "    .dataframe tbody tr th {\n",
       "        vertical-align: top;\n",
       "    }\n",
       "\n",
       "    .dataframe thead th {\n",
       "        text-align: right;\n",
       "    }\n",
       "</style>\n",
       "<table border=\"1\" class=\"dataframe\">\n",
       "  <thead>\n",
       "    <tr style=\"text-align: right;\">\n",
       "      <th></th>\n",
       "      <th>#timestamp</th>\n",
       "      <th>left1</th>\n",
       "      <th>left2</th>\n",
       "      <th>right2</th>\n",
       "      <th>right2.1</th>\n",
       "      <th>label</th>\n",
       "    </tr>\n",
       "  </thead>\n",
       "  <tbody>\n",
       "    <tr>\n",
       "      <th>0</th>\n",
       "      <td>1594215558097</td>\n",
       "      <td>-27</td>\n",
       "      <td>-94</td>\n",
       "      <td>146</td>\n",
       "      <td>54</td>\n",
       "      <td>0</td>\n",
       "    </tr>\n",
       "    <tr>\n",
       "      <th>1</th>\n",
       "      <td>1594215558119</td>\n",
       "      <td>-50</td>\n",
       "      <td>-98</td>\n",
       "      <td>119</td>\n",
       "      <td>50</td>\n",
       "      <td>0</td>\n",
       "    </tr>\n",
       "    <tr>\n",
       "      <th>2</th>\n",
       "      <td>1594215558142</td>\n",
       "      <td>-38</td>\n",
       "      <td>-106</td>\n",
       "      <td>133</td>\n",
       "      <td>40</td>\n",
       "      <td>0</td>\n",
       "    </tr>\n",
       "    <tr>\n",
       "      <th>3</th>\n",
       "      <td>1594215558157</td>\n",
       "      <td>-17</td>\n",
       "      <td>-68</td>\n",
       "      <td>156</td>\n",
       "      <td>82</td>\n",
       "      <td>0</td>\n",
       "    </tr>\n",
       "    <tr>\n",
       "      <th>4</th>\n",
       "      <td>1594215558179</td>\n",
       "      <td>-20</td>\n",
       "      <td>-78</td>\n",
       "      <td>156</td>\n",
       "      <td>77</td>\n",
       "      <td>0</td>\n",
       "    </tr>\n",
       "    <tr>\n",
       "      <th>...</th>\n",
       "      <td>...</td>\n",
       "      <td>...</td>\n",
       "      <td>...</td>\n",
       "      <td>...</td>\n",
       "      <td>...</td>\n",
       "      <td>...</td>\n",
       "    </tr>\n",
       "    <tr>\n",
       "      <th>24516</th>\n",
       "      <td>1594216048473</td>\n",
       "      <td>-38</td>\n",
       "      <td>-49</td>\n",
       "      <td>107</td>\n",
       "      <td>91</td>\n",
       "      <td>0</td>\n",
       "    </tr>\n",
       "    <tr>\n",
       "      <th>24517</th>\n",
       "      <td>1594216048495</td>\n",
       "      <td>-49</td>\n",
       "      <td>-53</td>\n",
       "      <td>100</td>\n",
       "      <td>86</td>\n",
       "      <td>0</td>\n",
       "    </tr>\n",
       "    <tr>\n",
       "      <th>24518</th>\n",
       "      <td>1594216048511</td>\n",
       "      <td>-43</td>\n",
       "      <td>-44</td>\n",
       "      <td>104</td>\n",
       "      <td>91</td>\n",
       "      <td>0</td>\n",
       "    </tr>\n",
       "    <tr>\n",
       "      <th>24519</th>\n",
       "      <td>1594216048533</td>\n",
       "      <td>-32</td>\n",
       "      <td>-39</td>\n",
       "      <td>112</td>\n",
       "      <td>98</td>\n",
       "      <td>0</td>\n",
       "    </tr>\n",
       "    <tr>\n",
       "      <th>24520</th>\n",
       "      <td>1594216048555</td>\n",
       "      <td>-39</td>\n",
       "      <td>-43</td>\n",
       "      <td>106</td>\n",
       "      <td>92</td>\n",
       "      <td>0</td>\n",
       "    </tr>\n",
       "  </tbody>\n",
       "</table>\n",
       "<p>24521 rows × 6 columns</p>\n",
       "</div>"
      ],
      "text/plain": [
       "          #timestamp  left1  left2  right2  right2.1  label\n",
       "0      1594215558097    -27    -94     146        54      0\n",
       "1      1594215558119    -50    -98     119        50      0\n",
       "2      1594215558142    -38   -106     133        40      0\n",
       "3      1594215558157    -17    -68     156        82      0\n",
       "4      1594215558179    -20    -78     156        77      0\n",
       "...              ...    ...    ...     ...       ...    ...\n",
       "24516  1594216048473    -38    -49     107        91      0\n",
       "24517  1594216048495    -49    -53     100        86      0\n",
       "24518  1594216048511    -43    -44     104        91      0\n",
       "24519  1594216048533    -32    -39     112        98      0\n",
       "24520  1594216048555    -39    -43     106        92      0\n",
       "\n",
       "[24521 rows x 6 columns]"
      ]
     },
     "execution_count": 56,
     "metadata": {},
     "output_type": "execute_result"
    }
   ],
   "source": [
    "label_data = obtain_final_labels(label_data)\n",
    "label_data = generated_timestamps_in_label_data(label_data, timestamp)\n",
    "data_with_labels = join_recordings_with_labels(raw, label_data)\n",
    "data_with_labels"
   ]
  },
  {
   "cell_type": "code",
   "execution_count": 1,
   "metadata": {
    "scrolled": false
   },
   "outputs": [
    {
     "ename": "NameError",
     "evalue": "name 'data_with_labels' is not defined",
     "output_type": "error",
     "traceback": [
      "\u001b[1;31m---------------------------------------------------------------------------\u001b[0m",
      "\u001b[1;31mNameError\u001b[0m                                 Traceback (most recent call last)",
      "\u001b[1;32m<ipython-input-1-64eb1b3f9c10>\u001b[0m in \u001b[0;36m<module>\u001b[1;34m\u001b[0m\n\u001b[1;32m----> 1\u001b[1;33m \u001b[0mdf\u001b[0m \u001b[1;33m=\u001b[0m \u001b[0mdata_with_labels\u001b[0m\u001b[1;33m\u001b[0m\u001b[1;33m\u001b[0m\u001b[0m\n\u001b[0m\u001b[0;32m      2\u001b[0m \u001b[1;33m\u001b[0m\u001b[0m\n\u001b[0;32m      3\u001b[0m \u001b[1;31m# Use directly Columns as argument. You can use tab completion for this!\u001b[0m\u001b[1;33m\u001b[0m\u001b[1;33m\u001b[0m\u001b[1;33m\u001b[0m\u001b[0m\n\u001b[0;32m      4\u001b[0m \u001b[0mfig\u001b[0m \u001b[1;33m=\u001b[0m \u001b[0mpx\u001b[0m\u001b[1;33m.\u001b[0m\u001b[0mscatter\u001b[0m\u001b[1;33m(\u001b[0m\u001b[0mdf\u001b[0m\u001b[1;33m,\u001b[0m \u001b[0mx\u001b[0m\u001b[1;33m=\u001b[0m\u001b[0mdata_tmps\u001b[0m\u001b[1;33m[\u001b[0m\u001b[1;34m'#timestamp'\u001b[0m\u001b[1;33m]\u001b[0m\u001b[1;33m,\u001b[0m \u001b[0my\u001b[0m\u001b[1;33m=\u001b[0m\u001b[0mdf\u001b[0m\u001b[1;33m[\u001b[0m\u001b[1;34m'left2'\u001b[0m\u001b[1;33m]\u001b[0m\u001b[1;33m,\u001b[0m \u001b[0mcolor\u001b[0m\u001b[1;33m=\u001b[0m\u001b[0mdf\u001b[0m\u001b[1;33m[\u001b[0m\u001b[1;34m'label'\u001b[0m\u001b[1;33m]\u001b[0m\u001b[1;33m)\u001b[0m\u001b[1;33m\u001b[0m\u001b[1;33m\u001b[0m\u001b[0m\n\u001b[0;32m      5\u001b[0m \u001b[0mfig\u001b[0m\u001b[1;33m.\u001b[0m\u001b[0mshow\u001b[0m\u001b[1;33m(\u001b[0m\u001b[1;33m)\u001b[0m\u001b[1;33m\u001b[0m\u001b[1;33m\u001b[0m\u001b[0m\n",
      "\u001b[1;31mNameError\u001b[0m: name 'data_with_labels' is not defined"
     ]
    }
   ],
   "source": [
    "\n",
    "df = data_with_labels\n",
    "\n",
    "# Use directly Columns as argument. You can use tab completion for this!\n",
    "fig = px.scatter(df, x=data_tmps['#timestamp'], y=df['left2'], color=df['label'])\n",
    "fig.show()"
   ]
  },
  {
   "cell_type": "code",
   "execution_count": 58,
   "metadata": {},
   "outputs": [
    {
     "data": {
      "text/plain": [
       "'exported successfully'"
      ]
     },
     "execution_count": 58,
     "metadata": {},
     "output_type": "execute_result"
    }
   ],
   "source": [
    "export_to_csv(data_with_labels, 'preprocessed_data_a_05.csv')"
   ]
  },
  {
   "cell_type": "code",
   "execution_count": null,
   "metadata": {},
   "outputs": [],
   "source": [
    "\n"
   ]
  }
 ],
 "metadata": {
  "kernelspec": {
   "display_name": "Python 3",
   "language": "python",
   "name": "python3"
  },
  "language_info": {
   "codemirror_mode": {
    "name": "ipython",
    "version": 3
   },
   "file_extension": ".py",
   "mimetype": "text/x-python",
   "name": "python",
   "nbconvert_exporter": "python",
   "pygments_lexer": "ipython3",
   "version": "3.7.7"
  }
 },
 "nbformat": 4,
 "nbformat_minor": 4
}
